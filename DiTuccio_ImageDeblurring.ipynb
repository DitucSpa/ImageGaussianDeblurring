{
  "cells": [
    {
      "cell_type": "markdown",
      "metadata": {
        "id": "URtOslJ-jjzz"
      },
      "source": [
        "**GIANLUCA DI TUCCIO, EXAM 10-06-2022, IMAGE GAUSSIAN DEBLURRING**"
      ]
    },
    {
      "cell_type": "markdown",
      "metadata": {
        "id": "Fl4jwqEvikZw"
      },
      "source": [
        "# INTRODUCTION"
      ]
    },
    {
      "cell_type": "markdown",
      "source": [
        "\n",
        "Model: Modified DnCNN + SRCNN<br>\n",
        "Test Set MSE: 0.0021539<br>\n",
        "Trainable Parameters: 215 k<br>\n",
        "Epochs: 70<br>\n",
        "Optimizer: Adam\n",
        "\n"
      ],
      "metadata": {
        "id": "k1No55WR-1Yw"
      }
    },
    {
      "cell_type": "markdown",
      "metadata": {
        "id": "RW9tD9CdbH4N"
      },
      "source": [
        "The main task is to solve the noise and the gaussian blur in an image. Besides, it is also important to remember that it's impossible to obtain the original image from the blurred one, because after the blurring some original data are lost. For this task, I have preferred to use a simple/fast architecture than complex models that already exist, using the least number of parameters.<br>\n",
        "I use the [DnCNN](https://www.researchgate.net/publication/306187437_Beyond_a_Gaussian_Denoiser_Residual_Learning_of_Deep_CNN_for_Image_Denoising) (Denoising Convolutional Neural Networks) model for the denoising, proposed by the Harbin Institute of Technology and The Hong Kong Polytechnic University, and [SRCNN](https://arxiv.org/abs/1501.00092) (Super-Resolution) for deblurring the image. From these models, I add and modify some parts for adapting the entire model to our dataset (32x32x3 images), such as the number of layers, the size of filters, Subtract layer, etc, with all the considerations regarding these parts.<br>\n",
        "However, there are different type of blur (subject movement, camera movement, out of focus, etc) and it exists different model, such as:\n",
        "- DeepDeblur;\n",
        "- PSS-NSC;\n",
        "- MT-RNN;\n",
        "- MIMO-UNet.<br>\n",
        "\n",
        "The paper Rethinking Coarse-to-Fine Approach in Single Image Deblurring, Sung-Jin Cho, 2021, proposes some of these (https://arxiv.org/pdf/2108.05054.pdf).<br><br>\n",
        "Recommended articles: \n",
        "- [SRCNN Paper Summary & Implementation, Sieun Park, 2021](https://medium.com/analytics-vidhya/srcnn-paper-summary-implementation-ad5cea22a90e)\n",
        "- [Noise removal in images using deep learning models, Sunil Belde, 2021](https://medium.com/analytics-vidhya/noise-removal-in-images-using-deep-learning-models-3972544372d2)\n"
      ]
    },
    {
      "cell_type": "code",
      "execution_count": 2,
      "metadata": {
        "id": "1RnLx4qjMuAQ"
      },
      "outputs": [],
      "source": [
        "# Library\n",
        "import numpy as np\n",
        "import matplotlib.pyplot as plt\n",
        "import os\n",
        "from tensorflow import keras\n",
        "import tensorflow as tf \n",
        "import random\n",
        "from cv2 import GaussianBlur"
      ]
    },
    {
      "cell_type": "markdown",
      "metadata": {
        "id": "LFtM3iwkipvJ"
      },
      "source": [
        "# GET DATASET"
      ]
    },
    {
      "cell_type": "code",
      "execution_count": 3,
      "metadata": {
        "id": "OO_ZsN9fMymB"
      },
      "outputs": [],
      "source": [
        "def getDataset():\n",
        "  (x_train, _), (x_test, _) = tf.keras.datasets.cifar10.load_data()\n",
        "  normalize = lambda x: x/x.max()\n",
        "  x_train = normalize(x_train)\n",
        "  x_test = normalize(x_test)\n",
        "  createBlurred = lambda arr: np.array([GaussianBlur(x, (5,5), ((random.random()*3)+1)) + (0.02*np.random.normal(0,1, (32, 32, 3))) for x in arr])\n",
        "  return (createBlurred(x_train), x_train), (createBlurred(x_test), x_test)"
      ]
    },
    {
      "cell_type": "code",
      "execution_count": 4,
      "metadata": {
        "id": "SCwhPYJ8M1Mb",
        "colab": {
          "base_uri": "https://localhost:8080/"
        },
        "outputId": "0c602b98-6406-401b-dbfa-5e4a6cb962aa"
      },
      "outputs": [
        {
          "output_type": "stream",
          "name": "stdout",
          "text": [
            "Downloading data from https://www.cs.toronto.edu/~kriz/cifar-10-python.tar.gz\n",
            "170500096/170498071 [==============================] - 2s 0us/step\n",
            "170508288/170498071 [==============================] - 2s 0us/step\n"
          ]
        }
      ],
      "source": [
        "train, test = getDataset()\n",
        "\n",
        "# get the train part (subdivided into noise and target)\n",
        "train_noise = train[0]\n",
        "train_target = train[1]\n",
        "\n",
        "# get the test part (subdivided into noise and target)\n",
        "test_noise = test[0]\n",
        "test_target = test[1]"
      ]
    },
    {
      "cell_type": "markdown",
      "metadata": {
        "id": "BRJc8v3L8vjn"
      },
      "source": [
        "# DnCNN\n",
        "![1](https://raw.githubusercontent.com/DitucSpa/ImageGaussianDeblurring/main/Images/DnCNN.png)\n",
        "<br>\n",
        "Given a noisy image, the model tries to predict the residual image (as shown in the upper image). It's composed by:\n",
        "- the first layer with Conv + ReLu of 64 filters 3x3;\n",
        "- a series of Conv + Batch Normalization + ReLu, 64 filters 3x3 for layer.\n",
        "- the last layer with only the Conv of 3 filters 1x1.\n",
        "<br>\n",
        "\n",
        "This model works both for gray and color image.<br>\n",
        "From this, we can obtein a denoise image using the Residual Learning, as:<br>\n",
        "Clean Image = Subtract(Noise Image - Predicted Residual Image).\n",
        "![1](https://raw.githubusercontent.com/DitucSpa/ImageGaussianDeblurring/main/Images/residual_learning.png)"
      ]
    },
    {
      "cell_type": "markdown",
      "source": [
        "# SRCNN\n",
        "![1](https://raw.githubusercontent.com/DitucSpa/ImageGaussianDeblurring/main/Images/srcnn.png)\n",
        "\n",
        "\n",
        "The SRCNN is a model for image super-resolution. It's subdivided into three path:\n",
        "- patch extraction and representation;\n",
        "- non linear mapping (for introducing more non-linearity to improve theaccuracy);\n",
        "- reconstruction.\n",
        "This model is also used for deblurring an image."
      ],
      "metadata": {
        "id": "TOZXuGS4IklU"
      }
    },
    {
      "cell_type": "markdown",
      "metadata": {
        "id": "YLsqGeoFrWvn"
      },
      "source": [
        "# FIND THE BEST CONFIGURATION"
      ]
    },
    {
      "cell_type": "markdown",
      "metadata": {
        "id": "MT4oq7mj84rn"
      },
      "source": [
        "Before the fit of the model, it's important to choose the best configuration for the model (such as number of layers in the middle, filter dimension, number of filters, and so on). <br><br>\n",
        "!!! IMPORTANT NOTE!!!<br>\n",
        "For all the configurations, the SRCNN part (for deblurring) has remained the same, because there have not been important improvements. So, I have decided to change (and semplify) only the DnCNN part, with important improvements on the result. The follow blocks explain what to change for adapting the model to the our datast (32x32x3). I have also tried to use the least number of parameters, for a simply and fast model for the training."
      ]
    },
    {
      "cell_type": "markdown",
      "metadata": {
        "id": "pXekLDLGu9xW"
      },
      "source": [
        "**DnCNN: NUMBER OF FILTERS PER LAYER**<br>\n",
        "First, I evaluate the model with different configurations for finding the better configuration. All the results were achieved using some fixed parameters, such as:\n",
        "- 10 levels for the loop (10 layers of CNN + BN + ReLu);\n",
        "- 3x3 filter dimension;\n",
        "- \"same\" padding;\n",
        "- 1 as stride;\n",
        "- 100 as batches size;\n",
        "- adam optimizer;\n",
        "- same SRCNN\n",
        "- 30 epochs.\n",
        "<br>\n",
        "\n",
        "The results are:\n",
        "![1](https://raw.githubusercontent.com/DitucSpa/ImageGaussianDeblurring/main/Images/ResultsWithDifferentFilter.png)\n",
        "The results for 10 layers with 128 filters (or 8 filters) for each level are not shown, because the performances were really bad (128 filters were too many for this dataset with 32x32x3 images, while 8 were too few).<br>\n",
        "The highlighted yellow rows show the best configuration:\n",
        "- the configuration with the lowest MSE with only 64 filters per layer (with high parameters) --> MSE = 0.0024 with 402.0k parameters;\n",
        "- the configuration with a good MSE with 32-64 filters per layer alternated (es: 64-32-64-32 and so on) --> MSE = 0.0025 with 215.1k parameters.\n",
        "\n",
        "However, given that the MSE for the 32-64 alternated configuration is near to the MSE of the 64 filters configuration, the 32-64 configuration could be better than other configurations, because this configuration uses half of the parameters than the 64 filters per layer configuration. Indeed, I will evaluate both configurations.\n",
        "<br>\n",
        "Besides, there's another configuration (highlighted in blue) that shows the configuration with the lowest parameters (but the MSE is not optimal)."
      ]
    },
    {
      "cell_type": "markdown",
      "metadata": {
        "id": "MZ7qHPEP1lF5"
      },
      "source": [
        "**DnCNN: FILTER SIZE**<br>\n",
        "Besides, another paper has proposed a different architecture (autoencoder) with a 2x2 filter size (https://github.com/done-n-dusted/deblur-fashionmnist) with stride=1, because of the dataset (*fashionmnist*) with a 28x28x1 image dimension. As you can imagine, the *fashionmnist* dataset has images with 1 channel color instead of our 3 channel colors, thus the 2x2 filter size may not be enough (choosing odd kernel sizes has the benefit that we can preserve the spatial dimensionality). Indeed, the results were (with the same parameters as before, tested only for 32 filters per layer and 32-64 alternated):\n",
        "![2](https://raw.githubusercontent.com/DitucSpa/ImageGaussianDeblurring/main/Images/ResultsWithDifferentFilterSize.png)\n",
        "For the 16 filters per layers and the 16-32 alternated, the results were worse than before, thus the results are not reported in the table. Also, with the same results I choose the model with less parameters.<br>\n",
        "The 5x5 filter size achieves the better MSE for 32-64 alternated, but with 546.2k parameters, while the 3x3 filter size was close to the 5x5 MSE with only 215.5k parameters. Thus, I decide to use filters with a 3x3 size. Also, the 3x3 - 64 filters configuration achieves the same result (0.0024) using fewer parameters (402.0k instead of 546.2k).\n",
        "However, I have seen that using a 5x5 filter size for the first and last convolution and the others with a 3x3 filter size, the results were better 4 times out 5. Indeed, kernels with a large size can be helpful for incorporating information with large receptive fields, but two successive layers can increase the receptive field, mitigating this advantage.\n",
        "![3](https://raw.githubusercontent.com/DitucSpa/ImageGaussianDeblurring/main/Images/DnCNN_5Filters.png)\n",
        "<br><br>\n",
        "(The images below show accuracy rate and the processing time using different filter size, for differenti input image: 66x50, 90x75 and 132x100. The results show an equal behaviour of the filter size in different input image. Paper: Analysis of Filter Size Effect In Deep Learning, Yunus Camgözlü, 2020, https://arxiv.org/pdf/2101.01115.pdf).\n",
        "This is also explained by the type of images (32x32x3) that I use for the exam and for the purpose (gaussian deblurring).\n",
        "![4](https://raw.githubusercontent.com/DitucSpa/ImageGaussianDeblurring/main/Images/BatchSizePaper2.png)\n",
        "![5](https://raw.githubusercontent.com/DitucSpa/ImageGaussianDeblurring/main/Images/BatchSizePaper.png)"
      ]
    },
    {
      "cell_type": "markdown",
      "metadata": {
        "id": "hgoWx3YG77L2"
      },
      "source": [
        "**DnCNN: NUMBER OF LAYERS (CNN + BN + RELU)**<br>\n",
        "At the end, I try with different number of layers, but the results were worse than the 10 layers in the middle (same MSE with more parameters or worse MSE). Besides, I try to add some addition but without an important increase of performance, like the Squeezy and Excitation (code proposed by https://github.com/titu1994/keras-squeeze-excite-network) and some 1x1 Convolutional for reducing the depth numbers in the middle.<br>\n",
        "Also another [paper](https://arxiv.org/pdf/1705.03122.pdf) proposes some considerations regarding the number of filters and the number of layers (even if the paper have used Autoencoder, but the results were the same). Indeed, the more the layers, the lower the accuracy (or MSE) for bigger filter size. But, this inverse correlation isn't very large, so using small filter size and few number of layers is a better choise.\n"
      ]
    },
    {
      "cell_type": "markdown",
      "metadata": {
        "id": "xVAdV2Q58frx"
      },
      "source": [
        "**CONCLUSION**<br>\n",
        "In conclusion, the configurations choosen for the model are:\n",
        "- 10 layers in the middle (CNN + BN + LReLU);\n",
        "- 3x3 filter dimension for the middle layers;\n",
        "- 5x5 filter dimension for the first and last convolution;\n",
        "- 1 as stride;\n",
        "- \"same\" padding;\n",
        "- 30 epochs;\n",
        "- adam optimazers;\n",
        "- 32 and 64 filters per layer in the middle architecture or 64 filters per layer;\n",
        "- same SRCNN.\n",
        "<br>\n",
        "\n",
        "Besides, there have been better results using [Leaky ReLu](https://keras.io/api/layers/activation_layers/leaky_relu/) (it fixes the “dying ReLU” problem --> it doesn’t have the zero-slope part) and a tanh actvivation in the first layer."
      ]
    },
    {
      "cell_type": "code",
      "execution_count": 7,
      "metadata": {
        "colab": {
          "base_uri": "https://localhost:8080/"
        },
        "id": "nElxD-mUM5C6",
        "outputId": "63f1dad5-7a31-4102-9e25-64e265657e52"
      },
      "outputs": [
        {
          "output_type": "stream",
          "name": "stdout",
          "text": [
            "Model: \"DiTuccio_Modified_DnCNN\"\n",
            "__________________________________________________________________________________________________\n",
            " Layer (type)                   Output Shape         Param #     Connected to                     \n",
            "==================================================================================================\n",
            " InputLayer (InputLayer)        [(None, 32, 32, 3)]  0           []                               \n",
            "                                                                                                  \n",
            " DnCNN_FirstConvLayer (Conv2D)  (None, 32, 32, 32)   2432        ['InputLayer[0][0]']             \n",
            "                                                                                                  \n",
            " DnCNN_FirstActivation_tanh (Ac  (None, 32, 32, 32)  0           ['DnCNN_FirstConvLayer[0][0]']   \n",
            " tivation)                                                                                        \n",
            "                                                                                                  \n",
            " DnCNN_0_64 (Conv2D)            (None, 32, 32, 64)   18496       ['DnCNN_FirstActivation_tanh[0][0\n",
            "                                                                 ]']                              \n",
            "                                                                                                  \n",
            " DnCNN_0_BN (BatchNormalization  (None, 32, 32, 64)  256         ['DnCNN_0_64[0][0]']             \n",
            " )                                                                                                \n",
            "                                                                                                  \n",
            " DnCNN_0_Activation_LeakyReLu (  (None, 32, 32, 64)  0           ['DnCNN_0_BN[0][0]']             \n",
            " Activation)                                                                                      \n",
            "                                                                                                  \n",
            " DnCNN_1_32 (Conv2D)            (None, 32, 32, 32)   18464       ['DnCNN_0_Activation_LeakyReLu[0]\n",
            "                                                                 [0]']                            \n",
            "                                                                                                  \n",
            " DnCNN_1_BN (BatchNormalization  (None, 32, 32, 32)  128         ['DnCNN_1_32[0][0]']             \n",
            " )                                                                                                \n",
            "                                                                                                  \n",
            " DnCNN_1_Activation_LeakyReLu (  (None, 32, 32, 32)  0           ['DnCNN_1_BN[0][0]']             \n",
            " Activation)                                                                                      \n",
            "                                                                                                  \n",
            " DnCNN_2_64 (Conv2D)            (None, 32, 32, 64)   18496       ['DnCNN_1_Activation_LeakyReLu[0]\n",
            "                                                                 [0]']                            \n",
            "                                                                                                  \n",
            " DnCNN_2_BN (BatchNormalization  (None, 32, 32, 64)  256         ['DnCNN_2_64[0][0]']             \n",
            " )                                                                                                \n",
            "                                                                                                  \n",
            " DnCNN_2_Activation_LeakyReLu (  (None, 32, 32, 64)  0           ['DnCNN_2_BN[0][0]']             \n",
            " Activation)                                                                                      \n",
            "                                                                                                  \n",
            " DnCNN_3_32 (Conv2D)            (None, 32, 32, 32)   18464       ['DnCNN_2_Activation_LeakyReLu[0]\n",
            "                                                                 [0]']                            \n",
            "                                                                                                  \n",
            " DnCNN_3_BN (BatchNormalization  (None, 32, 32, 32)  128         ['DnCNN_3_32[0][0]']             \n",
            " )                                                                                                \n",
            "                                                                                                  \n",
            " DnCNN_3_Activation_LeakyReLu (  (None, 32, 32, 32)  0           ['DnCNN_3_BN[0][0]']             \n",
            " Activation)                                                                                      \n",
            "                                                                                                  \n",
            " DnCNN_4_64 (Conv2D)            (None, 32, 32, 64)   18496       ['DnCNN_3_Activation_LeakyReLu[0]\n",
            "                                                                 [0]']                            \n",
            "                                                                                                  \n",
            " DnCNN_4_BN (BatchNormalization  (None, 32, 32, 64)  256         ['DnCNN_4_64[0][0]']             \n",
            " )                                                                                                \n",
            "                                                                                                  \n",
            " DnCNN_4_Activation_LeakyReLu (  (None, 32, 32, 64)  0           ['DnCNN_4_BN[0][0]']             \n",
            " Activation)                                                                                      \n",
            "                                                                                                  \n",
            " DnCNN_5_32 (Conv2D)            (None, 32, 32, 32)   18464       ['DnCNN_4_Activation_LeakyReLu[0]\n",
            "                                                                 [0]']                            \n",
            "                                                                                                  \n",
            " DnCNN_5_BN (BatchNormalization  (None, 32, 32, 32)  128         ['DnCNN_5_32[0][0]']             \n",
            " )                                                                                                \n",
            "                                                                                                  \n",
            " DnCNN_5_Activation_LeakyReLu (  (None, 32, 32, 32)  0           ['DnCNN_5_BN[0][0]']             \n",
            " Activation)                                                                                      \n",
            "                                                                                                  \n",
            " DnCNN_6_64 (Conv2D)            (None, 32, 32, 64)   18496       ['DnCNN_5_Activation_LeakyReLu[0]\n",
            "                                                                 [0]']                            \n",
            "                                                                                                  \n",
            " DnCNN_6_BN (BatchNormalization  (None, 32, 32, 64)  256         ['DnCNN_6_64[0][0]']             \n",
            " )                                                                                                \n",
            "                                                                                                  \n",
            " DnCNN_6_Activation_LeakyReLu (  (None, 32, 32, 64)  0           ['DnCNN_6_BN[0][0]']             \n",
            " Activation)                                                                                      \n",
            "                                                                                                  \n",
            " DnCNN_7_32 (Conv2D)            (None, 32, 32, 32)   18464       ['DnCNN_6_Activation_LeakyReLu[0]\n",
            "                                                                 [0]']                            \n",
            "                                                                                                  \n",
            " DnCNN_7_BN (BatchNormalization  (None, 32, 32, 32)  128         ['DnCNN_7_32[0][0]']             \n",
            " )                                                                                                \n",
            "                                                                                                  \n",
            " DnCNN_7_Activation_LeakyReLu (  (None, 32, 32, 32)  0           ['DnCNN_7_BN[0][0]']             \n",
            " Activation)                                                                                      \n",
            "                                                                                                  \n",
            " DnCNN_8_64 (Conv2D)            (None, 32, 32, 64)   18496       ['DnCNN_7_Activation_LeakyReLu[0]\n",
            "                                                                 [0]']                            \n",
            "                                                                                                  \n",
            " DnCNN_8_BN (BatchNormalization  (None, 32, 32, 64)  256         ['DnCNN_8_64[0][0]']             \n",
            " )                                                                                                \n",
            "                                                                                                  \n",
            " DnCNN_8_Activation_LeakyReLu (  (None, 32, 32, 64)  0           ['DnCNN_8_BN[0][0]']             \n",
            " Activation)                                                                                      \n",
            "                                                                                                  \n",
            " DnCNN_9_32 (Conv2D)            (None, 32, 32, 32)   18464       ['DnCNN_8_Activation_LeakyReLu[0]\n",
            "                                                                 [0]']                            \n",
            "                                                                                                  \n",
            " DnCNN_9_BN (BatchNormalization  (None, 32, 32, 32)  128         ['DnCNN_9_32[0][0]']             \n",
            " )                                                                                                \n",
            "                                                                                                  \n",
            " DnCNN_9_Activation_LeakyReLu (  (None, 32, 32, 32)  0           ['DnCNN_9_BN[0][0]']             \n",
            " Activation)                                                                                      \n",
            "                                                                                                  \n",
            " DnCNN_LastConvLayer (Conv2D)   (None, 32, 32, 3)    2403        ['DnCNN_9_Activation_LeakyReLu[0]\n",
            "                                                                 [0]']                            \n",
            "                                                                                                  \n",
            " DnCNN_SubtractLayer (Subtract)  (None, 32, 32, 3)   0           ['InputLayer[0][0]',             \n",
            "                                                                  'DnCNN_LastConvLayer[0][0]']    \n",
            "                                                                                                  \n",
            " SRCNN_9x9_Layer (Conv2D)       (None, 32, 32, 64)   15616       ['DnCNN_SubtractLayer[0][0]']    \n",
            "                                                                                                  \n",
            " SRCNN_1x1_Layer (Conv2D)       (None, 32, 32, 64)   4160        ['SRCNN_9x9_Layer[0][0]']        \n",
            "                                                                                                  \n",
            " SRCNN_5x5_Layer (Conv2D)       (None, 32, 32, 3)    4803        ['SRCNN_1x1_Layer[0][0]']        \n",
            "                                                                                                  \n",
            "==================================================================================================\n",
            "Total params: 216,134\n",
            "Trainable params: 215,174\n",
            "Non-trainable params: 960\n",
            "__________________________________________________________________________________________________\n"
          ]
        }
      ],
      "source": [
        "# library used\n",
        "from keras.models import Model\n",
        "from keras.layers import Input, Conv2D, Activation, BatchNormalization, Subtract, PReLU, Add, Conv2DTranspose\n",
        "\n",
        "# input\n",
        "input_shape = train_noise[0].shape\n",
        "input = Input(shape=input_shape, name = \"InputLayer\")\n",
        "\n",
        "# all the filters are initialize with a \"random normal\", while bias with zero.\n",
        "# the padding is the same and the stride is equal to 1 (by default)\n",
        "\n",
        "\n",
        "# ---------------------DnCNNN---------------------\n",
        "# first layer of the DnCNN, with 32 5x5 filters\n",
        "dncnn = Conv2D(32, kernel_size=(5,5), kernel_initializer=\"random_normal\", bias_initializer=\"zeros\", \n",
        "           padding=\"same\", name = \"DnCNN_FirstConvLayer\")(input)\n",
        "dncnn = Activation(\"tanh\", name = \"DnCNN_FirstActivation_tanh\")(dncnn)\n",
        "\n",
        "# middle layers (10 levels) --> 64-32-64-32-etc\n",
        "for i in range(10):\n",
        "  if i%2 == 0:\n",
        "    dncnn = Conv2D(64, kernel_size=(3,3), kernel_initializer=\"random_normal\", bias_initializer=\"zeros\", \n",
        "               padding=\"same\", name = f\"DnCNN_{i}_64\")(dncnn)\n",
        "    dncnn = BatchNormalization(axis=-1, name = f\"DnCNN_{i}_BN\")(dncnn)\n",
        "    dncnn = Activation(\"leaky_relu\", name = f\"DnCNN_{i}_Activation_LeakyReLu\")(dncnn)\n",
        "  else:\n",
        "    # or alternatively 64 insted of 32 for the model with all 64 filters per layer\n",
        "    dncnn = Conv2D(32, kernel_size=(3,3), kernel_initializer=\"random_normal\", bias_initializer=\"zeros\", \n",
        "               padding=\"same\", name = f\"DnCNN_{i}_32\")(dncnn)\n",
        "    dncnn = BatchNormalization(axis=-1, name = f\"DnCNN_{i}_BN\")(dncnn)\n",
        "    dncnn = Activation(\"leaky_relu\", name = f\"DnCNN_{i}_Activation_LeakyReLu\")(dncnn)\n",
        "\n",
        "# last layer, 3 filters (for the RGB images) and 5x5 filter dimension\n",
        "dncnn = Conv2D(3, kernel_size=(5,5), kernel_initializer=\"random_normal\", bias_initializer=\"zeros\", \n",
        "           padding=\"same\", name = \"DnCNN_LastConvLayer\")(dncnn)\n",
        "\n",
        "# subtract\n",
        "dncnn = Subtract(name = \"DnCNN_SubtractLayer\")([input, dncnn])\n",
        "\n",
        "\n",
        "\n",
        "# ---------------------SRCNN---------------------\n",
        "srcnn = Conv2D(64, kernel_size=(9,9), kernel_initializer=\"random_normal\", bias_initializer=\"zeros\", \n",
        "           padding=\"same\", activation=\"relu\", name = \"SRCNN_9x9_Layer\")(dncnn)\n",
        "srcnn = Conv2D(64, kernel_size=(1,1), kernel_initializer=\"random_normal\", bias_initializer=\"zeros\", \n",
        "           padding=\"same\", activation=\"relu\", name = \"SRCNN_1x1_Layer\")(srcnn)\n",
        "srcnn = Conv2D(3, kernel_size=(5,5), kernel_initializer=\"random_normal\", bias_initializer=\"zeros\", \n",
        "           padding=\"same\", activation=\"relu\", name = \"SRCNN_5x5_Layer\")(srcnn)\n",
        "\n",
        "model = Model(input, srcnn, name = \"DiTuccio_Modified_DnCNN\")\n",
        "model.summary()"
      ]
    },
    {
      "cell_type": "markdown",
      "metadata": {
        "id": "0n-0sMSe_T7r"
      },
      "source": [
        "# SPLIT TRAIN, OPTIMIZER AND VALIDATION"
      ]
    },
    {
      "cell_type": "code",
      "execution_count": 8,
      "metadata": {
        "id": "YJ9Dx1K-inK7"
      },
      "outputs": [],
      "source": [
        "from keras import optimizers\n",
        "\n",
        "validation_split = 0.1 # the dataset is big, then 0.1 is enough\n",
        "\n",
        "# train\n",
        "train_for_fit = train_noise[:int(train_noise.shape[0]*(1-validation_split))]\n",
        "target_for_fit = train_target[:int(train_target.shape[0]*(1-validation_split))]\n",
        "\n",
        "# validation\n",
        "val_train = train_noise[-int(train_noise.shape[0]*validation_split):]\n",
        "val_target = train_target[-int(train_target.shape[0]*validation_split):]\n",
        "\n",
        "# learning rate (the learning rate is a hyperparameter --> this is the best configuration)\n",
        "# https://keras.io/api/callbacks/learning_rate_scheduler/\n",
        "def scheduler(epoch, lr):\n",
        "  if epoch < 10:\n",
        "    return lr\n",
        "  elif epoch > 50:\n",
        "    return 0.00005\n",
        "  else:\n",
        "    return lr * 0.97\n",
        "\n",
        "callback = tf.keras.callbacks.LearningRateScheduler(scheduler)\n",
        "adam = tf.keras.optimizers.Adam(learning_rate = 0.001)\n",
        "model.compile(loss = 'mse', optimizer = adam)"
      ]
    },
    {
      "cell_type": "markdown",
      "metadata": {
        "id": "FQGZvjvl_ZM5"
      },
      "source": [
        "# BATCH SIZE AS HYPERPARAMETER AND FIT OF THE MODEL"
      ]
    },
    {
      "cell_type": "markdown",
      "source": [
        "Now, the main purpose is to set the number of batch (as hyperparameter). The [paper](https://wandb.ai/ayush-thakur/dl-question-bank/reports/What-s-the-Optimal-Batch-Size-to-Train-a-Neural-Network---VmlldzoyMDkyNDU) shows that often the smaller the batch size the better the results (but also the computation time is worse). Also another [paper](https://medium.com/mini-distill/effect-of-batch-size-on-training-dynamics-21c14f7a716e) proposes the same reasoning  using MNIST dataset.<br>\n",
        "Thus, I expect better result for small batch size (like 32 or 50) than big batch size (100, 200, 500), tested for 30 epochs.\n",
        "The table below shows the result achieved:\n",
        "![6](https://raw.githubusercontent.com/DitucSpa/ImageGaussianDeblurring/main/Images/BatchSize2.png)\n",
        "![7](https://raw.githubusercontent.com/DitucSpa/ImageGaussianDeblurring/main/Images/BatchSizeGraph2.png)\n",
        "\n",
        "At the end, the difference between the 32-64 alternated model and the 64 model isn't very large, so I've decided to use the first model, using only 215.5k parameters, with an appropriate LR and 70 epochs."
      ],
      "metadata": {
        "id": "ITpWBBm5jrdH"
      }
    },
    {
      "cell_type": "code",
      "execution_count": 9,
      "metadata": {
        "colab": {
          "base_uri": "https://localhost:8080/"
        },
        "id": "VvXJnUSEM-QG",
        "outputId": "b810236e-58d6-45cf-ae6d-beffe43e67be"
      },
      "outputs": [
        {
          "output_type": "stream",
          "name": "stdout",
          "text": [
            "Epoch 1/70\n",
            "899/900 [============================>.] - ETA: 0s - loss: 0.0064\n",
            "Epoch 1: val_loss improved from inf to 0.00396, saving model to dituccio_model.hdf5\n",
            "900/900 [==============================] - 44s 36ms/step - loss: 0.0064 - val_loss: 0.0040 - lr: 0.0010\n",
            "Epoch 2/70\n",
            "899/900 [============================>.] - ETA: 0s - loss: 0.0036\n",
            "Epoch 2: val_loss improved from 0.00396 to 0.00347, saving model to dituccio_model.hdf5\n",
            "900/900 [==============================] - 32s 36ms/step - loss: 0.0036 - val_loss: 0.0035 - lr: 0.0010\n",
            "Epoch 3/70\n",
            "899/900 [============================>.] - ETA: 0s - loss: 0.0031\n",
            "Epoch 3: val_loss improved from 0.00347 to 0.00305, saving model to dituccio_model.hdf5\n",
            "900/900 [==============================] - 32s 35ms/step - loss: 0.0031 - val_loss: 0.0030 - lr: 0.0010\n",
            "Epoch 4/70\n",
            "899/900 [============================>.] - ETA: 0s - loss: 0.0029\n",
            "Epoch 4: val_loss improved from 0.00305 to 0.00284, saving model to dituccio_model.hdf5\n",
            "900/900 [==============================] - 32s 36ms/step - loss: 0.0029 - val_loss: 0.0028 - lr: 0.0010\n",
            "Epoch 5/70\n",
            "899/900 [============================>.] - ETA: 0s - loss: 0.0028\n",
            "Epoch 5: val_loss improved from 0.00284 to 0.00271, saving model to dituccio_model.hdf5\n",
            "900/900 [==============================] - 32s 35ms/step - loss: 0.0028 - val_loss: 0.0027 - lr: 0.0010\n",
            "Epoch 6/70\n",
            "899/900 [============================>.] - ETA: 0s - loss: 0.0027\n",
            "Epoch 6: val_loss improved from 0.00271 to 0.00269, saving model to dituccio_model.hdf5\n",
            "900/900 [==============================] - 32s 35ms/step - loss: 0.0027 - val_loss: 0.0027 - lr: 0.0010\n",
            "Epoch 7/70\n",
            "899/900 [============================>.] - ETA: 0s - loss: 0.0026\n",
            "Epoch 7: val_loss improved from 0.00269 to 0.00255, saving model to dituccio_model.hdf5\n",
            "900/900 [==============================] - 32s 36ms/step - loss: 0.0026 - val_loss: 0.0026 - lr: 0.0010\n",
            "Epoch 8/70\n",
            "899/900 [============================>.] - ETA: 0s - loss: 0.0026\n",
            "Epoch 8: val_loss did not improve from 0.00255\n",
            "900/900 [==============================] - 32s 35ms/step - loss: 0.0026 - val_loss: 0.0027 - lr: 0.0010\n",
            "Epoch 9/70\n",
            "899/900 [============================>.] - ETA: 0s - loss: 0.0025\n",
            "Epoch 9: val_loss improved from 0.00255 to 0.00252, saving model to dituccio_model.hdf5\n",
            "900/900 [==============================] - 32s 36ms/step - loss: 0.0025 - val_loss: 0.0025 - lr: 0.0010\n",
            "Epoch 10/70\n",
            "899/900 [============================>.] - ETA: 0s - loss: 0.0025\n",
            "Epoch 10: val_loss improved from 0.00252 to 0.00251, saving model to dituccio_model.hdf5\n",
            "900/900 [==============================] - 32s 36ms/step - loss: 0.0025 - val_loss: 0.0025 - lr: 0.0010\n",
            "Epoch 11/70\n",
            "899/900 [============================>.] - ETA: 0s - loss: 0.0024\n",
            "Epoch 11: val_loss did not improve from 0.00251\n",
            "900/900 [==============================] - 32s 35ms/step - loss: 0.0024 - val_loss: 0.0026 - lr: 9.7000e-04\n",
            "Epoch 12/70\n",
            "899/900 [============================>.] - ETA: 0s - loss: 0.0024\n",
            "Epoch 12: val_loss improved from 0.00251 to 0.00244, saving model to dituccio_model.hdf5\n",
            "900/900 [==============================] - 32s 36ms/step - loss: 0.0024 - val_loss: 0.0024 - lr: 9.4090e-04\n",
            "Epoch 13/70\n",
            "899/900 [============================>.] - ETA: 0s - loss: 0.0024\n",
            "Epoch 13: val_loss improved from 0.00244 to 0.00242, saving model to dituccio_model.hdf5\n",
            "900/900 [==============================] - 32s 35ms/step - loss: 0.0024 - val_loss: 0.0024 - lr: 9.1267e-04\n",
            "Epoch 14/70\n",
            "899/900 [============================>.] - ETA: 0s - loss: 0.0024\n",
            "Epoch 14: val_loss improved from 0.00242 to 0.00236, saving model to dituccio_model.hdf5\n",
            "900/900 [==============================] - 32s 35ms/step - loss: 0.0024 - val_loss: 0.0024 - lr: 8.8529e-04\n",
            "Epoch 15/70\n",
            "899/900 [============================>.] - ETA: 0s - loss: 0.0023\n",
            "Epoch 15: val_loss did not improve from 0.00236\n",
            "900/900 [==============================] - 32s 36ms/step - loss: 0.0023 - val_loss: 0.0024 - lr: 8.5873e-04\n",
            "Epoch 16/70\n",
            "899/900 [============================>.] - ETA: 0s - loss: 0.0023\n",
            "Epoch 16: val_loss improved from 0.00236 to 0.00235, saving model to dituccio_model.hdf5\n",
            "900/900 [==============================] - 32s 35ms/step - loss: 0.0023 - val_loss: 0.0023 - lr: 8.3297e-04\n",
            "Epoch 17/70\n",
            "899/900 [============================>.] - ETA: 0s - loss: 0.0023\n",
            "Epoch 17: val_loss improved from 0.00235 to 0.00232, saving model to dituccio_model.hdf5\n",
            "900/900 [==============================] - 32s 35ms/step - loss: 0.0023 - val_loss: 0.0023 - lr: 8.0798e-04\n",
            "Epoch 18/70\n",
            "899/900 [============================>.] - ETA: 0s - loss: 0.0023\n",
            "Epoch 18: val_loss did not improve from 0.00232\n",
            "900/900 [==============================] - 32s 35ms/step - loss: 0.0023 - val_loss: 0.0023 - lr: 7.8374e-04\n",
            "Epoch 19/70\n",
            "899/900 [============================>.] - ETA: 0s - loss: 0.0023\n",
            "Epoch 19: val_loss improved from 0.00232 to 0.00232, saving model to dituccio_model.hdf5\n",
            "900/900 [==============================] - 32s 35ms/step - loss: 0.0023 - val_loss: 0.0023 - lr: 7.6023e-04\n",
            "Epoch 20/70\n",
            "899/900 [============================>.] - ETA: 0s - loss: 0.0023\n",
            "Epoch 20: val_loss improved from 0.00232 to 0.00227, saving model to dituccio_model.hdf5\n",
            "900/900 [==============================] - 32s 35ms/step - loss: 0.0023 - val_loss: 0.0023 - lr: 7.3742e-04\n",
            "Epoch 21/70\n",
            "899/900 [============================>.] - ETA: 0s - loss: 0.0023\n",
            "Epoch 21: val_loss improved from 0.00227 to 0.00226, saving model to dituccio_model.hdf5\n",
            "900/900 [==============================] - 32s 36ms/step - loss: 0.0023 - val_loss: 0.0023 - lr: 7.1530e-04\n",
            "Epoch 22/70\n",
            "899/900 [============================>.] - ETA: 0s - loss: 0.0023\n",
            "Epoch 22: val_loss did not improve from 0.00226\n",
            "900/900 [==============================] - 32s 36ms/step - loss: 0.0023 - val_loss: 0.0023 - lr: 6.9384e-04\n",
            "Epoch 23/70\n",
            "899/900 [============================>.] - ETA: 0s - loss: 0.0023\n",
            "Epoch 23: val_loss did not improve from 0.00226\n",
            "900/900 [==============================] - 32s 35ms/step - loss: 0.0023 - val_loss: 0.0023 - lr: 6.7303e-04\n",
            "Epoch 24/70\n",
            "899/900 [============================>.] - ETA: 0s - loss: 0.0022\n",
            "Epoch 24: val_loss did not improve from 0.00226\n",
            "900/900 [==============================] - 32s 36ms/step - loss: 0.0022 - val_loss: 0.0024 - lr: 6.5284e-04\n",
            "Epoch 25/70\n",
            "899/900 [============================>.] - ETA: 0s - loss: 0.0022\n",
            "Epoch 25: val_loss did not improve from 0.00226\n",
            "900/900 [==============================] - 32s 36ms/step - loss: 0.0022 - val_loss: 0.0023 - lr: 6.3325e-04\n",
            "Epoch 26/70\n",
            "899/900 [============================>.] - ETA: 0s - loss: 0.0022\n",
            "Epoch 26: val_loss did not improve from 0.00226\n",
            "900/900 [==============================] - 32s 35ms/step - loss: 0.0022 - val_loss: 0.0023 - lr: 6.1425e-04\n",
            "Epoch 27/70\n",
            "899/900 [============================>.] - ETA: 0s - loss: 0.0022\n",
            "Epoch 27: val_loss improved from 0.00226 to 0.00226, saving model to dituccio_model.hdf5\n",
            "900/900 [==============================] - 32s 35ms/step - loss: 0.0022 - val_loss: 0.0023 - lr: 5.9583e-04\n",
            "Epoch 28/70\n",
            "899/900 [============================>.] - ETA: 0s - loss: 0.0022\n",
            "Epoch 28: val_loss improved from 0.00226 to 0.00225, saving model to dituccio_model.hdf5\n",
            "900/900 [==============================] - 32s 36ms/step - loss: 0.0022 - val_loss: 0.0022 - lr: 5.7795e-04\n",
            "Epoch 29/70\n",
            "899/900 [============================>.] - ETA: 0s - loss: 0.0022\n",
            "Epoch 29: val_loss improved from 0.00225 to 0.00223, saving model to dituccio_model.hdf5\n",
            "900/900 [==============================] - 32s 36ms/step - loss: 0.0022 - val_loss: 0.0022 - lr: 5.6061e-04\n",
            "Epoch 30/70\n",
            "899/900 [============================>.] - ETA: 0s - loss: 0.0022\n",
            "Epoch 30: val_loss did not improve from 0.00223\n",
            "900/900 [==============================] - 32s 35ms/step - loss: 0.0022 - val_loss: 0.0022 - lr: 5.4379e-04\n",
            "Epoch 31/70\n",
            "899/900 [============================>.] - ETA: 0s - loss: 0.0022\n",
            "Epoch 31: val_loss improved from 0.00223 to 0.00222, saving model to dituccio_model.hdf5\n",
            "900/900 [==============================] - 32s 35ms/step - loss: 0.0022 - val_loss: 0.0022 - lr: 5.2748e-04\n",
            "Epoch 32/70\n",
            "899/900 [============================>.] - ETA: 0s - loss: 0.0022\n",
            "Epoch 32: val_loss did not improve from 0.00222\n",
            "900/900 [==============================] - 32s 35ms/step - loss: 0.0022 - val_loss: 0.0022 - lr: 5.1166e-04\n",
            "Epoch 33/70\n",
            "899/900 [============================>.] - ETA: 0s - loss: 0.0022\n",
            "Epoch 33: val_loss did not improve from 0.00222\n",
            "900/900 [==============================] - 32s 35ms/step - loss: 0.0022 - val_loss: 0.0022 - lr: 4.9631e-04\n",
            "Epoch 34/70\n",
            "899/900 [============================>.] - ETA: 0s - loss: 0.0022\n",
            "Epoch 34: val_loss improved from 0.00222 to 0.00222, saving model to dituccio_model.hdf5\n",
            "900/900 [==============================] - 32s 35ms/step - loss: 0.0022 - val_loss: 0.0022 - lr: 4.8142e-04\n",
            "Epoch 35/70\n",
            "899/900 [============================>.] - ETA: 0s - loss: 0.0022\n",
            "Epoch 35: val_loss improved from 0.00222 to 0.00222, saving model to dituccio_model.hdf5\n",
            "900/900 [==============================] - 32s 35ms/step - loss: 0.0022 - val_loss: 0.0022 - lr: 4.6697e-04\n",
            "Epoch 36/70\n",
            "899/900 [============================>.] - ETA: 0s - loss: 0.0022\n",
            "Epoch 36: val_loss improved from 0.00222 to 0.00221, saving model to dituccio_model.hdf5\n",
            "900/900 [==============================] - 32s 35ms/step - loss: 0.0022 - val_loss: 0.0022 - lr: 4.5297e-04\n",
            "Epoch 37/70\n",
            "899/900 [============================>.] - ETA: 0s - loss: 0.0022\n",
            "Epoch 37: val_loss did not improve from 0.00221\n",
            "900/900 [==============================] - 32s 35ms/step - loss: 0.0022 - val_loss: 0.0022 - lr: 4.3938e-04\n",
            "Epoch 38/70\n",
            "899/900 [============================>.] - ETA: 0s - loss: 0.0022\n",
            "Epoch 38: val_loss did not improve from 0.00221\n",
            "900/900 [==============================] - 32s 35ms/step - loss: 0.0022 - val_loss: 0.0022 - lr: 4.2620e-04\n",
            "Epoch 39/70\n",
            "899/900 [============================>.] - ETA: 0s - loss: 0.0022\n",
            "Epoch 39: val_loss did not improve from 0.00221\n",
            "900/900 [==============================] - 32s 35ms/step - loss: 0.0022 - val_loss: 0.0022 - lr: 4.1341e-04\n",
            "Epoch 40/70\n",
            "899/900 [============================>.] - ETA: 0s - loss: 0.0022\n",
            "Epoch 40: val_loss improved from 0.00221 to 0.00220, saving model to dituccio_model.hdf5\n",
            "900/900 [==============================] - 32s 35ms/step - loss: 0.0022 - val_loss: 0.0022 - lr: 4.0101e-04\n",
            "Epoch 41/70\n",
            "899/900 [============================>.] - ETA: 0s - loss: 0.0022\n",
            "Epoch 41: val_loss improved from 0.00220 to 0.00219, saving model to dituccio_model.hdf5\n",
            "900/900 [==============================] - 32s 35ms/step - loss: 0.0022 - val_loss: 0.0022 - lr: 3.8898e-04\n",
            "Epoch 42/70\n",
            "899/900 [============================>.] - ETA: 0s - loss: 0.0022\n",
            "Epoch 42: val_loss did not improve from 0.00219\n",
            "900/900 [==============================] - 32s 35ms/step - loss: 0.0022 - val_loss: 0.0022 - lr: 3.7731e-04\n",
            "Epoch 43/70\n",
            "899/900 [============================>.] - ETA: 0s - loss: 0.0022\n",
            "Epoch 43: val_loss did not improve from 0.00219\n",
            "900/900 [==============================] - 32s 36ms/step - loss: 0.0022 - val_loss: 0.0022 - lr: 3.6599e-04\n",
            "Epoch 44/70\n",
            "899/900 [============================>.] - ETA: 0s - loss: 0.0022\n",
            "Epoch 44: val_loss did not improve from 0.00219\n",
            "900/900 [==============================] - 32s 35ms/step - loss: 0.0022 - val_loss: 0.0022 - lr: 3.5501e-04\n",
            "Epoch 45/70\n",
            "899/900 [============================>.] - ETA: 0s - loss: 0.0022\n",
            "Epoch 45: val_loss did not improve from 0.00219\n",
            "900/900 [==============================] - 32s 36ms/step - loss: 0.0022 - val_loss: 0.0022 - lr: 3.4436e-04\n",
            "Epoch 46/70\n",
            "899/900 [============================>.] - ETA: 0s - loss: 0.0021\n",
            "Epoch 46: val_loss did not improve from 0.00219\n",
            "900/900 [==============================] - 32s 35ms/step - loss: 0.0021 - val_loss: 0.0022 - lr: 3.3403e-04\n",
            "Epoch 47/70\n",
            "899/900 [============================>.] - ETA: 0s - loss: 0.0021\n",
            "Epoch 47: val_loss improved from 0.00219 to 0.00218, saving model to dituccio_model.hdf5\n",
            "900/900 [==============================] - 32s 36ms/step - loss: 0.0021 - val_loss: 0.0022 - lr: 3.2401e-04\n",
            "Epoch 48/70\n",
            "899/900 [============================>.] - ETA: 0s - loss: 0.0021\n",
            "Epoch 48: val_loss did not improve from 0.00218\n",
            "900/900 [==============================] - 32s 35ms/step - loss: 0.0021 - val_loss: 0.0022 - lr: 3.1429e-04\n",
            "Epoch 49/70\n",
            "899/900 [============================>.] - ETA: 0s - loss: 0.0021\n",
            "Epoch 49: val_loss improved from 0.00218 to 0.00218, saving model to dituccio_model.hdf5\n",
            "900/900 [==============================] - 32s 36ms/step - loss: 0.0021 - val_loss: 0.0022 - lr: 3.0486e-04\n",
            "Epoch 50/70\n",
            "899/900 [============================>.] - ETA: 0s - loss: 0.0021\n",
            "Epoch 50: val_loss did not improve from 0.00218\n",
            "900/900 [==============================] - 32s 35ms/step - loss: 0.0021 - val_loss: 0.0022 - lr: 2.9571e-04\n",
            "Epoch 51/70\n",
            "899/900 [============================>.] - ETA: 0s - loss: 0.0021\n",
            "Epoch 51: val_loss did not improve from 0.00218\n",
            "900/900 [==============================] - 32s 36ms/step - loss: 0.0021 - val_loss: 0.0022 - lr: 2.8684e-04\n",
            "Epoch 52/70\n",
            "899/900 [============================>.] - ETA: 0s - loss: 0.0021\n",
            "Epoch 52: val_loss improved from 0.00218 to 0.00216, saving model to dituccio_model.hdf5\n",
            "900/900 [==============================] - 32s 36ms/step - loss: 0.0021 - val_loss: 0.0022 - lr: 5.0000e-05\n",
            "Epoch 53/70\n",
            "899/900 [============================>.] - ETA: 0s - loss: 0.0021\n",
            "Epoch 53: val_loss improved from 0.00216 to 0.00216, saving model to dituccio_model.hdf5\n",
            "900/900 [==============================] - 32s 35ms/step - loss: 0.0021 - val_loss: 0.0022 - lr: 5.0000e-05\n",
            "Epoch 54/70\n",
            "899/900 [============================>.] - ETA: 0s - loss: 0.0021\n",
            "Epoch 54: val_loss did not improve from 0.00216\n",
            "900/900 [==============================] - 32s 35ms/step - loss: 0.0021 - val_loss: 0.0022 - lr: 5.0000e-05\n",
            "Epoch 55/70\n",
            "899/900 [============================>.] - ETA: 0s - loss: 0.0021\n",
            "Epoch 55: val_loss did not improve from 0.00216\n",
            "900/900 [==============================] - 32s 36ms/step - loss: 0.0021 - val_loss: 0.0022 - lr: 5.0000e-05\n",
            "Epoch 56/70\n",
            "899/900 [============================>.] - ETA: 0s - loss: 0.0021\n",
            "Epoch 56: val_loss did not improve from 0.00216\n",
            "900/900 [==============================] - 32s 35ms/step - loss: 0.0021 - val_loss: 0.0022 - lr: 5.0000e-05\n",
            "Epoch 57/70\n",
            "899/900 [============================>.] - ETA: 0s - loss: 0.0021\n",
            "Epoch 57: val_loss did not improve from 0.00216\n",
            "900/900 [==============================] - 32s 36ms/step - loss: 0.0021 - val_loss: 0.0022 - lr: 5.0000e-05\n",
            "Epoch 58/70\n",
            "899/900 [============================>.] - ETA: 0s - loss: 0.0021\n",
            "Epoch 58: val_loss did not improve from 0.00216\n",
            "900/900 [==============================] - 32s 36ms/step - loss: 0.0021 - val_loss: 0.0022 - lr: 5.0000e-05\n",
            "Epoch 59/70\n",
            "899/900 [============================>.] - ETA: 0s - loss: 0.0021\n",
            "Epoch 59: val_loss improved from 0.00216 to 0.00215, saving model to dituccio_model.hdf5\n",
            "900/900 [==============================] - 32s 36ms/step - loss: 0.0021 - val_loss: 0.0022 - lr: 5.0000e-05\n",
            "Epoch 60/70\n",
            "899/900 [============================>.] - ETA: 0s - loss: 0.0021\n",
            "Epoch 60: val_loss did not improve from 0.00215\n",
            "900/900 [==============================] - 32s 36ms/step - loss: 0.0021 - val_loss: 0.0022 - lr: 5.0000e-05\n",
            "Epoch 61/70\n",
            "899/900 [============================>.] - ETA: 0s - loss: 0.0021\n",
            "Epoch 61: val_loss improved from 0.00215 to 0.00215, saving model to dituccio_model.hdf5\n",
            "900/900 [==============================] - 32s 36ms/step - loss: 0.0021 - val_loss: 0.0022 - lr: 5.0000e-05\n",
            "Epoch 62/70\n",
            "899/900 [============================>.] - ETA: 0s - loss: 0.0021\n",
            "Epoch 62: val_loss did not improve from 0.00215\n",
            "900/900 [==============================] - 32s 36ms/step - loss: 0.0021 - val_loss: 0.0022 - lr: 5.0000e-05\n",
            "Epoch 63/70\n",
            "899/900 [============================>.] - ETA: 0s - loss: 0.0021\n",
            "Epoch 63: val_loss did not improve from 0.00215\n",
            "900/900 [==============================] - 32s 35ms/step - loss: 0.0021 - val_loss: 0.0022 - lr: 5.0000e-05\n",
            "Epoch 64/70\n",
            "899/900 [============================>.] - ETA: 0s - loss: 0.0021\n",
            "Epoch 64: val_loss did not improve from 0.00215\n",
            "900/900 [==============================] - 32s 36ms/step - loss: 0.0021 - val_loss: 0.0022 - lr: 5.0000e-05\n",
            "Epoch 65/70\n",
            "899/900 [============================>.] - ETA: 0s - loss: 0.0021\n",
            "Epoch 65: val_loss did not improve from 0.00215\n",
            "900/900 [==============================] - 32s 36ms/step - loss: 0.0021 - val_loss: 0.0022 - lr: 5.0000e-05\n",
            "Epoch 66/70\n",
            "899/900 [============================>.] - ETA: 0s - loss: 0.0021\n",
            "Epoch 66: val_loss did not improve from 0.00215\n",
            "900/900 [==============================] - 32s 36ms/step - loss: 0.0021 - val_loss: 0.0022 - lr: 5.0000e-05\n",
            "Epoch 67/70\n",
            "899/900 [============================>.] - ETA: 0s - loss: 0.0021\n",
            "Epoch 67: val_loss did not improve from 0.00215\n",
            "900/900 [==============================] - 32s 35ms/step - loss: 0.0021 - val_loss: 0.0022 - lr: 5.0000e-05\n",
            "Epoch 68/70\n",
            "899/900 [============================>.] - ETA: 0s - loss: 0.0021\n",
            "Epoch 68: val_loss improved from 0.00215 to 0.00215, saving model to dituccio_model.hdf5\n",
            "900/900 [==============================] - 32s 35ms/step - loss: 0.0021 - val_loss: 0.0022 - lr: 5.0000e-05\n",
            "Epoch 69/70\n",
            "899/900 [============================>.] - ETA: 0s - loss: 0.0021\n",
            "Epoch 69: val_loss did not improve from 0.00215\n",
            "900/900 [==============================] - 32s 35ms/step - loss: 0.0021 - val_loss: 0.0022 - lr: 5.0000e-05\n",
            "Epoch 70/70\n",
            "899/900 [============================>.] - ETA: 0s - loss: 0.0021\n",
            "Epoch 70: val_loss did not improve from 0.00215\n",
            "900/900 [==============================] - 32s 35ms/step - loss: 0.0021 - val_loss: 0.0022 - lr: 5.0000e-05\n"
          ]
        }
      ],
      "source": [
        "from keras.callbacks import ModelCheckpoint\n",
        "\n",
        "# save model using callback\n",
        "check_model_callback = ModelCheckpoint(filepath = \"dituccio_model.hdf5\", monitor=\"val_loss\", verbose=1, save_best_only=True, \n",
        "                             save_weights_only=True, mode=\"auto\", save_freq=\"epoch\")\n",
        "\n",
        "# fit of the model\n",
        "history = model.fit(train_for_fit, target_for_fit, batch_size=50, epochs=70, \n",
        "                    shuffle=True, validation_data=(val_train, val_target),\n",
        "                    callbacks=[check_model_callback, callback], verbose = 1)"
      ]
    },
    {
      "cell_type": "code",
      "execution_count": 10,
      "metadata": {
        "id": "b1oDDa1CycUN"
      },
      "outputs": [],
      "source": [
        "def display_history(history):\n",
        "    mse_training = history.history['loss']\n",
        "    mse_val = history.history['val_loss']\n",
        "    plt.plot(mse_training)\n",
        "    plt.plot(mse_val)\n",
        "    plt.grid()\n",
        "    plt.title('Loss during training')\n",
        "    plt.xlabel('Epoch')\n",
        "    plt.legend(['Training', 'Validation'])\n",
        "    plt.show()"
      ]
    },
    {
      "cell_type": "code",
      "execution_count": 11,
      "metadata": {
        "colab": {
          "base_uri": "https://localhost:8080/",
          "height": 295
        },
        "id": "OoiHzu2zyffl",
        "outputId": "37dcfbce-3d6d-4980-a44a-fe311e4ae4bc"
      },
      "outputs": [
        {
          "output_type": "display_data",
          "data": {
            "text/plain": [
              "<Figure size 432x288 with 1 Axes>"
            ],
            "image/png": "[encoded data removed]"
          },
          "metadata": {
            "needs_background": "light"
          }
        }
      ],
      "source": [
        "display_history(history)"
      ]
    },
    {
      "cell_type": "markdown",
      "metadata": {
        "id": "8vMW3mb_22wz"
      },
      "source": [
        "# LOAD THE WEIGHTS AND RE-EVALUATE THE MODEL"
      ]
    },
    {
      "cell_type": "markdown",
      "source": [
        "The performance on the test set is practically the same (no overfitting; there is a slight difference at the end, but it's very small). Also the dataset is big and for this model (DnCNN + SRCNN), data augmentation is not needed."
      ],
      "metadata": {
        "id": "okJAyHdyivqi"
      }
    },
    {
      "cell_type": "code",
      "execution_count": 12,
      "metadata": {
        "colab": {
          "base_uri": "https://localhost:8080/"
        },
        "id": "pUL3o_PP--3Z",
        "outputId": "30839943-d2ae-42ae-aa20-d2bf99e11e45"
      },
      "outputs": [
        {
          "output_type": "stream",
          "name": "stdout",
          "text": [
            "313/313 - 4s - loss: 0.0022 - 4s/epoch - 13ms/step\n",
            "The MSE for the test set is:\t0.002153907436877489\n"
          ]
        }
      ],
      "source": [
        "# load the model\n",
        "checkpoint_path = \"dituccio_model.hdf5\"\n",
        "model.load_weights(checkpoint_path)\n",
        "\n",
        "# test set\n",
        "score = model.evaluate(test_noise, test_target, verbose=2)\n",
        "print(f\"The MSE for the test set is:\\t{score}\")"
      ]
    },
    {
      "cell_type": "markdown",
      "metadata": {
        "id": "lkUQDP-Wid9i"
      },
      "source": [
        "# IMAGE RESULTS"
      ]
    },
    {
      "cell_type": "code",
      "source": [
        "def plot_image_results(number_of_image):\n",
        "  fig = plt.figure(figsize=(12, 12))\n",
        "\n",
        "  # noise image\n",
        "  fig.add_subplot(1, 3, 1)\n",
        "  plt.imshow(test_noise[number_of_image])\n",
        "  plt.title(\"Noise Image\")\n",
        "\n",
        "  # original image\n",
        "  fig.add_subplot(1, 3, 2)\n",
        "  plt.imshow(test_target[number_of_image])\n",
        "  plt.title(\"Original Image\")\n",
        "\n",
        "  # Modified DnCNN\n",
        "  fig.add_subplot(1, 3, 3)\n",
        "  pred = model.predict(test_noise[number_of_image].reshape(-1, 32, 32, 3))\n",
        "  plt.imshow(pred[0])\n",
        "  plt.title(\"Modified DnCNN\")\n",
        "\n",
        "  plt.show()\n",
        "  "
      ],
      "metadata": {
        "id": "8OHKCtW4n3NJ"
      },
      "execution_count": 13,
      "outputs": []
    },
    {
      "cell_type": "code",
      "source": [
        "plot_image_results(10)"
      ],
      "metadata": {
        "id": "sV4qZsqXnoeM",
        "colab": {
          "base_uri": "https://localhost:8080/",
          "height": 261
        },
        "outputId": "bba88f3a-912f-48f5-d9b5-62f620ee4dba"
      },
      "execution_count": 14,
      "outputs": [
        {
          "output_type": "display_data",
          "data": {
            "text/plain": [
              "<Figure size 864x864 with 3 Axes>"
            ],
            "image/png": "[encoded data removed]"
          },
          "metadata": {
            "needs_background": "light"
          }
        }
      ]
    }
  ],
  "metadata": {
    "accelerator": "GPU",
    "colab": {
      "collapsed_sections": [],
      "name": "DiTuccio_ImageDeblurring.ipynb",
      "provenance": []
    },
    "kernelspec": {
      "display_name": "Python 3",
      "name": "python3"
    },
    "language_info": {
      "name": "python"
    }
  },
  "nbformat": 4,
  "nbformat_minor": 0
}